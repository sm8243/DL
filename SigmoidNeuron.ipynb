{
  "nbformat": 4,
  "nbformat_minor": 0,
  "metadata": {
    "colab": {
      "provenance": [],
      "gpuType": "T4"
    },
    "kernelspec": {
      "name": "python3",
      "display_name": "Python 3"
    },
    "language_info": {
      "name": "python"
    },
    "accelerator": "GPU"
  },
  "cells": [
    {
      "cell_type": "code",
      "source": [
        "import numpy as np\n",
        "import matplotlib.pyplot as plt\n",
        "from sklearn.datasets import load_iris\n",
        "from sklearn.model_selection import train_test_split\n",
        "from sklearn.preprocessing import StandardScaler\n",
        "from sklearn.metrics import accuracy_score\n",
        "\n",
        "# Load the Iris dataset\n",
        "iris = load_iris()\n",
        "X, y = iris.data, iris.target\n",
        "\n",
        "# Consider only two classes: 'setosa' (class 0) and 'non-setosa' (classes 1 and 2)\n",
        "y_binary = np.where(y == 0, 1, 0)\n",
        "\n",
        "# Split data into training and testing sets\n",
        "X_train, X_test, y_train, y_test = train_test_split(X, y_binary, test_size=0.2, random_state=42)\n",
        "\n",
        "# Normalize the features to have zero mean and unit variance\n",
        "scaler = StandardScaler()\n",
        "X_train = scaler.fit_transform(X_train)\n",
        "X_test = scaler.transform(X_test)\n",
        "\n",
        "# Sigmoid activation function\n",
        "def sigmoid(x):\n",
        "    return 1 / (1 + np.exp(-x))\n",
        "\n",
        "# Derivative of the sigmoid function\n",
        "def sigmoid_derivative(x):\n",
        "    return x * (1 - x)\n",
        "\n",
        "# Sigmoid Neuron class\n",
        "class SigmoidNeuron:\n",
        "    def __init__(self):\n",
        "        self.weights = None\n",
        "        self.bias = None\n",
        "\n",
        "    # Initialize parameters randomly\n",
        "    def initialize_parameters(self, num_features):\n",
        "        self.weights = np.random.randn(num_features)\n",
        "        self.bias = np.random.randn()\n",
        "\n",
        "    # Forward pass\n",
        "    def forward(self, X):\n",
        "        return sigmoid(np.dot(X, self.weights) + self.bias)\n",
        "\n",
        "    # Backward pass (update weights and bias)\n",
        "    def backward(self, X, y, y_pred, learning_rate):\n",
        "        m = X.shape[0]\n",
        "        d_weights = np.dot(X.T, (y_pred - y)) / m\n",
        "        d_bias = np.sum(y_pred - y) / m\n",
        "        self.weights -= learning_rate * d_weights\n",
        "        self.bias -= learning_rate * d_bias\n",
        "\n",
        "    # Train the model\n",
        "    def train(self, X, y, num_epochs=1000, learning_rate=0.1):\n",
        "        num_features = X.shape[1]\n",
        "        self.initialize_parameters(num_features)\n",
        "        for epoch in range(num_epochs):\n",
        "            y_pred = self.forward(X)\n",
        "            # Binary cross-entropy loss\n",
        "            loss = -np.mean(y * np.log(y_pred) + (1 - y) * np.log(1 - y_pred))\n",
        "            self.backward(X, y, y_pred, learning_rate)\n",
        "            if epoch % 100 == 0:\n",
        "                print(f\"Epoch {epoch}, Loss: {loss:.4f}\")\n",
        "\n",
        "    # Make predictions\n",
        "    def predict(self, X):\n",
        "        return np.round(self.forward(X))\n",
        "\n",
        "# Create and train the model\n",
        "model = SigmoidNeuron()\n",
        "model.train(X_train, y_train, num_epochs=1000, learning_rate=0.1)\n",
        "\n",
        "# Make predictions on the test set\n",
        "y_pred = model.predict(X_test)\n",
        "\n",
        "# Calculate accuracy\n",
        "accuracy = accuracy_score(y_test, y_pred)\n",
        "print(f\"Test Accuracy: {accuracy:.2f}\")\n"
      ],
      "metadata": {
        "colab": {
          "base_uri": "https://localhost:8080/"
        },
        "id": "zf2vODoHWRb_",
        "outputId": "e754853b-aadd-42f2-826a-a90eb232c288"
      },
      "execution_count": null,
      "outputs": [
        {
          "output_type": "stream",
          "name": "stdout",
          "text": [
            "Epoch 0, Loss: 0.4441\n",
            "Epoch 100, Loss: 0.0812\n",
            "Epoch 200, Loss: 0.0430\n",
            "Epoch 300, Loss: 0.0297\n",
            "Epoch 400, Loss: 0.0230\n",
            "Epoch 500, Loss: 0.0190\n",
            "Epoch 600, Loss: 0.0163\n",
            "Epoch 700, Loss: 0.0143\n",
            "Epoch 800, Loss: 0.0128\n",
            "Epoch 900, Loss: 0.0116\n",
            "Test Accuracy: 1.00\n"
          ]
        }
      ]
    },
    {
      "cell_type": "code",
      "source": [],
      "metadata": {
        "id": "H6xVha-FWkvK"
      },
      "execution_count": null,
      "outputs": []
    }
  ]
}